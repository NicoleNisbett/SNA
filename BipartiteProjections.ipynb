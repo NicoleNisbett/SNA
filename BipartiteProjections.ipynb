{
 "cells": [
  {
   "cell_type": "code",
   "execution_count": 1,
   "metadata": {},
   "outputs": [],
   "source": [
    "import networkx as nx\n",
    "from networkx.algorithms import bipartite\n",
    "import pandas as pd"
   ]
  },
  {
   "cell_type": "code",
   "execution_count": 3,
   "metadata": {},
   "outputs": [],
   "source": [
    "g = nx.Graph()\n",
    "user = []\n",
    "topic = []\n",
    "with open(\"Merged/COP20Merged.csv\", \"r\") as f:\n",
    "    f.readline()\n",
    "    for l in f:\n",
    "        l = l.rstrip().split(\",\")\n",
    "        u = str(l[1])\n",
    "        t = str(l[2])\n",
    "        g.add_edge(u, t)\n",
    "        user.append(u)\n",
    "        topic.append(t)\n",
    "\n",
    "Ngraph_user = bipartite.weighted_projected_graph(g, user)\n",
    "#edge_weights = nx.get_edge_attributes(Ngraph_user,'weight')\n",
    "#Ngraph_user.remove_edges_from((e for e, w in edge_weights.items() if w < 1))\n",
    "\n",
    "Ngraph_user2 = Ngraph_user.copy()\n",
    "Ngraph_user2.remove_edges_from([(n1, n2) for n1, n2, w in Ngraph_user2.edges(data=\"weight\") if w < 2])\n",
    "\n",
    "\n",
    "nx.write_edgelist(Ngraph_user2,\"Projections/COP20ProjectionsN.csv\",  delimiter = \",\", data = ['weight'])\n",
    "\n",
    "file = pd.read_csv(\"Projections/COP20ProjectionsN.csv\")\n",
    "headerList = ['Source', 'Target', 'Weight']\n",
    "file.to_csv(\"Projections/COP20ProjectionsN.csv\", header=headerList, index=False)\n"
   ]
  }
 ],
 "metadata": {
  "kernelspec": {
   "display_name": "Python 3.7.12 ('SNA_env')",
   "language": "python",
   "name": "python3"
  },
  "language_info": {
   "codemirror_mode": {
    "name": "ipython",
    "version": 3
   },
   "file_extension": ".py",
   "mimetype": "text/x-python",
   "name": "python",
   "nbconvert_exporter": "python",
   "pygments_lexer": "ipython3",
   "version": "3.7.12"
  },
  "orig_nbformat": 4,
  "vscode": {
   "interpreter": {
    "hash": "300903aa310f969ec6ef68b4b575444dcf268d344ecb538731e44b19c67e8add"
   }
  }
 },
 "nbformat": 4,
 "nbformat_minor": 2
}
