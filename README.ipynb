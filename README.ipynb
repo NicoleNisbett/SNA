{
 "cells": [
  {
   "cell_type": "markdown",
   "metadata": {},
   "source": [
    "# Social Network Analyis\n",
    "This outlines the steps we have taken to create bipartite projections using COP tweets\n"
   ]
  },
  {
   "cell_type": "markdown",
   "metadata": {},
   "source": [
    "1. Create a subset of each COP dataset based on the normative topics extracted from BERTopic\n",
    "2. Create bipartite network files containing the twitter auther username (source) and topic they interacted with (target) using the `Bipartite.ipynb` script\n",
    "3. Create user projections of the bipartite network using the `projs.py` script. Due to the sizes of the files, we used the ARC HPC with `job_script1.sh`. "
   ]
  }
 ],
 "metadata": {
  "kernelspec": {
   "display_name": "Python 3.7.11 ('bertopic_env2')",
   "language": "python",
   "name": "python3"
  },
  "language_info": {
   "name": "python",
   "version": "3.7.11"
  },
  "orig_nbformat": 4,
  "vscode": {
   "interpreter": {
    "hash": "fe4d8685886068fc374377cb0ce03965843ae3df30816ebe900dd55a8a561255"
   }
  }
 },
 "nbformat": 4,
 "nbformat_minor": 2
}
